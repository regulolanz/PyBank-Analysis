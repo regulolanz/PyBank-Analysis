{
 "cells": [
  {
   "cell_type": "code",
   "execution_count": 7,
   "id": "7053a6f4-eaf4-4db8-808f-1e0030849b4f",
   "metadata": {},
   "outputs": [
    {
     "name": "stdout",
     "output_type": "stream",
     "text": [
      "Financial Analysis\n",
      "-----------------------------\n",
      "Total Months: 86\n",
      "Total: $38382578\n",
      "Average Change: $-2315.12\n",
      "Greatest Increase in Profits: Feb-2012 ($1926159)\n",
      "Greatest Decrease in Profits: Sep-2013 ($-2196167)\n"
     ]
    }
   ],
   "source": [
    "import pandas as pd\n",
    "\n",
    "# Read the CSV file into a Pandas dataframe\n",
    "df = pd.read_csv(\"budget_data.csv\")\n",
    "\n",
    "# Calculate the total number of months included in the dataset\n",
    "total_months = df[\"Date\"].nunique()\n",
    "\n",
    "# Calculate the net total amount of Profit/Losses over the entire period\n",
    "net_total = df[\"Profit/Losses\"].sum()\n",
    "\n",
    "# Calculate the changes in Profit/Losses over the entire period and find the average change\n",
    "df[\"Change\"] = df[\"Profit/Losses\"].diff()\n",
    "average_change = df[\"Change\"].mean()\n",
    "\n",
    "# Calculate the greatest increase in profits (date and amount) over the entire period\n",
    "greatest_increase = df.loc[df[\"Change\"].idxmax()]\n",
    "\n",
    "# Calculate the greatest decrease in losses (date and amount) over the entire period\n",
    "greatest_decrease = df.loc[df[\"Change\"].idxmin()]\n",
    "\n",
    "# Print out the analysis results\n",
    "print(\"Financial Analysis\")\n",
    "print(\"-----------------------------\")\n",
    "print(f\"Total Months: {total_months}\")\n",
    "print(f\"Total: ${net_total}\")\n",
    "print(f\"Average Change: ${average_change:.2f}\")\n",
    "print(f\"Greatest Increase in Profits: {greatest_increase['Date']} (${greatest_increase['Change']:.0f})\")\n",
    "print(f\"Greatest Decrease in Profits: {greatest_decrease['Date']} (${greatest_decrease['Change']:.0f})\")"
   ]
  },
  {
   "cell_type": "code",
   "execution_count": 8,
   "id": "92fc7ae0-8f60-44e4-9178-b9ab5338b52a",
   "metadata": {},
   "outputs": [],
   "source": [
    "# Export the analysis results to a text file\n",
    "with open(\"financial_analysis.txt\", \"w\") as file:\n",
    "    file.write(\"Financial Analysis\\n\")\n",
    "    file.write(\"-----------------------------\\n\")\n",
    "    file.write(f\"Total Months: {total_months}\\n\")\n",
    "    file.write(f\"Total: ${net_total}\\n\")\n",
    "    file.write(f\"Average Change: ${average_change:.2f}\\n\")\n",
    "    file.write(f\"Greatest Increase in Profits: {greatest_increase['Date']} (${greatest_increase['Change']:.0f})\\n\")\n",
    "    file.write(f\"Greatest Decrease in Profits: {greatest_decrease['Date']} (${greatest_decrease['Change']:.0f})\\n\")"
   ]
  },
  {
   "cell_type": "code",
   "execution_count": null,
   "id": "a17cd662-724e-4060-a3cd-8b4c5153a026",
   "metadata": {},
   "outputs": [],
   "source": []
  }
 ],
 "metadata": {
  "kernelspec": {
   "display_name": "Python 3 (ipykernel)",
   "language": "python",
   "name": "python3"
  },
  "language_info": {
   "codemirror_mode": {
    "name": "ipython",
    "version": 3
   },
   "file_extension": ".py",
   "mimetype": "text/x-python",
   "name": "python",
   "nbconvert_exporter": "python",
   "pygments_lexer": "ipython3",
   "version": "3.7.13"
  }
 },
 "nbformat": 4,
 "nbformat_minor": 5
}
